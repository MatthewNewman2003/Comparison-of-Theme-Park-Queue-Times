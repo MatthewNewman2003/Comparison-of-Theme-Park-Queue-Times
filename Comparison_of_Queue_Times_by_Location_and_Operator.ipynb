{
  "nbformat": 4,
  "nbformat_minor": 0,
  "metadata": {
    "colab": {
      "provenance": []
    },
    "kernelspec": {
      "name": "python3",
      "display_name": "Python 3"
    },
    "language_info": {
      "name": "python"
    }
  },
  "cells": [
    {
      "cell_type": "markdown",
      "source": [
        "**Installing the Dash Library**"
      ],
      "metadata": {
        "id": "_YrB7nVtgu5P"
      }
    },
    {
      "cell_type": "code",
      "source": [
        "#Installing the Dash library using PIP\n",
        "!pip install dash"
      ],
      "metadata": {
        "colab": {
          "base_uri": "https://localhost:8080/"
        },
        "id": "kRCoS_Mifak_",
        "outputId": "698714c4-04b5-41c6-a816-3411c7f5408a"
      },
      "execution_count": null,
      "outputs": [
        {
          "output_type": "stream",
          "name": "stdout",
          "text": [
            "Collecting dash\n",
            "  Downloading dash-3.1.1-py3-none-any.whl.metadata (10 kB)\n",
            "Requirement already satisfied: Flask<3.2,>=1.0.4 in /usr/local/lib/python3.11/dist-packages (from dash) (3.1.1)\n",
            "Requirement already satisfied: Werkzeug<3.2 in /usr/local/lib/python3.11/dist-packages (from dash) (3.1.3)\n",
            "Requirement already satisfied: plotly>=5.0.0 in /usr/local/lib/python3.11/dist-packages (from dash) (5.24.1)\n",
            "Requirement already satisfied: importlib-metadata in /usr/local/lib/python3.11/dist-packages (from dash) (8.7.0)\n",
            "Requirement already satisfied: typing-extensions>=4.1.1 in /usr/local/lib/python3.11/dist-packages (from dash) (4.14.0)\n",
            "Requirement already satisfied: requests in /usr/local/lib/python3.11/dist-packages (from dash) (2.32.3)\n",
            "Collecting retrying (from dash)\n",
            "  Downloading retrying-1.4.0-py3-none-any.whl.metadata (7.5 kB)\n",
            "Requirement already satisfied: nest-asyncio in /usr/local/lib/python3.11/dist-packages (from dash) (1.6.0)\n",
            "Requirement already satisfied: setuptools in /usr/local/lib/python3.11/dist-packages (from dash) (75.2.0)\n",
            "Requirement already satisfied: blinker>=1.9.0 in /usr/local/lib/python3.11/dist-packages (from Flask<3.2,>=1.0.4->dash) (1.9.0)\n",
            "Requirement already satisfied: click>=8.1.3 in /usr/local/lib/python3.11/dist-packages (from Flask<3.2,>=1.0.4->dash) (8.2.1)\n",
            "Requirement already satisfied: itsdangerous>=2.2.0 in /usr/local/lib/python3.11/dist-packages (from Flask<3.2,>=1.0.4->dash) (2.2.0)\n",
            "Requirement already satisfied: jinja2>=3.1.2 in /usr/local/lib/python3.11/dist-packages (from Flask<3.2,>=1.0.4->dash) (3.1.6)\n",
            "Requirement already satisfied: markupsafe>=2.1.1 in /usr/local/lib/python3.11/dist-packages (from Flask<3.2,>=1.0.4->dash) (3.0.2)\n",
            "Requirement already satisfied: tenacity>=6.2.0 in /usr/local/lib/python3.11/dist-packages (from plotly>=5.0.0->dash) (8.5.0)\n",
            "Requirement already satisfied: packaging in /usr/local/lib/python3.11/dist-packages (from plotly>=5.0.0->dash) (24.2)\n",
            "Requirement already satisfied: zipp>=3.20 in /usr/local/lib/python3.11/dist-packages (from importlib-metadata->dash) (3.23.0)\n",
            "Requirement already satisfied: charset-normalizer<4,>=2 in /usr/local/lib/python3.11/dist-packages (from requests->dash) (3.4.2)\n",
            "Requirement already satisfied: idna<4,>=2.5 in /usr/local/lib/python3.11/dist-packages (from requests->dash) (3.10)\n",
            "Requirement already satisfied: urllib3<3,>=1.21.1 in /usr/local/lib/python3.11/dist-packages (from requests->dash) (2.4.0)\n",
            "Requirement already satisfied: certifi>=2017.4.17 in /usr/local/lib/python3.11/dist-packages (from requests->dash) (2025.6.15)\n",
            "Downloading dash-3.1.1-py3-none-any.whl (7.9 MB)\n",
            "\u001b[2K   \u001b[90m━━━━━━━━━━━━━━━━━━━━━━━━━━━━━━━━━━━━━━━━\u001b[0m \u001b[32m7.9/7.9 MB\u001b[0m \u001b[31m44.6 MB/s\u001b[0m eta \u001b[36m0:00:00\u001b[0m\n",
            "\u001b[?25hDownloading retrying-1.4.0-py3-none-any.whl (11 kB)\n",
            "Installing collected packages: retrying, dash\n",
            "Successfully installed dash-3.1.1 retrying-1.4.0\n"
          ]
        }
      ]
    },
    {
      "cell_type": "markdown",
      "source": [
        "**Importing Libraries**"
      ],
      "metadata": {
        "id": "EfhZD82fgrBN"
      }
    },
    {
      "cell_type": "code",
      "execution_count": null,
      "metadata": {
        "id": "Mzmer86jfCDX"
      },
      "outputs": [],
      "source": [
        "#Importing libraries\n",
        "import pandas as pd\n",
        "import plotly.express as px\n",
        "import dash\n",
        "from dash import dcc, html\n",
        "from dash.dependencies import Input, Output"
      ]
    },
    {
      "cell_type": "markdown",
      "source": [
        "**Reading in Data**"
      ],
      "metadata": {
        "id": "f36n3ry5gn2S"
      }
    },
    {
      "cell_type": "code",
      "source": [
        "#Reading in the data\n",
        "GoogleDriveURL = \"https://docs.google.com/spreadsheets/d/1Bd9XJM_8LDhWSUePkIjbKMBtPtvoW8DLv80apQvsQtk/export?format=csv&gid=0\"\n",
        "Data = pd.read_csv(GoogleDriveURL)"
      ],
      "metadata": {
        "id": "TtMvA96pfjpR"
      },
      "execution_count": null,
      "outputs": []
    },
    {
      "cell_type": "markdown",
      "source": [
        "**Code for the Dashboard and Figures**"
      ],
      "metadata": {
        "id": "xazZKIX1gcEo"
      }
    },
    {
      "cell_type": "markdown",
      "source": [
        "Run this after running the code block above, but before attempting to run the dashboard in the code block below. This code declares all of the necessary code for the dashboard itself, including callbacks, the figures and the interactivity for the location-based figure."
      ],
      "metadata": {
        "id": "1QTK_J9s0lZU"
      }
    },
    {
      "cell_type": "code",
      "source": [
        "#Grouping the data by theme park operator and specifying key descriptive statistics\n",
        "QueuesGroupedByOperator = Data.groupby(by=\"Operator\")[\"Queue Time\"].describe()\n",
        "#Making a bar chart of the mean queue time per operator\n",
        "Figure2 = px.bar(QueuesGroupedByOperator, x=QueuesGroupedByOperator.index, y=\"mean\", color_discrete_sequence=[\"#ff4f00\"])\n",
        "#Updating the layout of the figure to add axis titles, a plot title and new colours, amongst other settings\n",
        "Figure2.update_layout(xaxis={\"categoryorder\" : \"total descending\",\n",
        "                             \"tickangle\" : 30,\n",
        "                             \"title\" : \"Operator\"},\n",
        "                      yaxis={\"title\" : \"Average Queue Time (minutes)\"},\n",
        "                      title=\"Major Attraction Queue Times by Operator\",\n",
        "                      paper_bgcolor=\"#87cefa\",\n",
        "                      plot_bgcolor=\"#87cefa\",\n",
        "                      font={\"family\" : \"Lora\",\n",
        "                            \"color\" : \"#00008b\"})\n",
        "#Updating the hover-box to be more user-friendly\n",
        "Figure2.update_traces(hovertemplate=\"%{x}: %{y} minutes<extra></extra>\")\n",
        "\n",
        "#Declaring a list of location options for the interactive location plot\n",
        "LocationOptions = [\"Country\", \"Continent\"]\n",
        "\n",
        "#Declaring the dashboard itself\n",
        "Dashboard = dash.Dash(__name__)\n",
        "\n",
        "#Declaring the dashboard itself, with a main Div encompassing an interval item and a sub-Div that fades in, encompassing everything else\n",
        "#The sub-Div encompasses the text and figures and is styled in unison with the Plotly figures\n",
        "Dashboard.layout = html.Div(style={\"backgroundColor\" : \"#87cefa\",\n",
        "                                   \"fontFamily\" : \"Lora\",\n",
        "                                   \"color\" : \"#00008b\"}, children=[dcc.Interval(\n",
        "    id=\"PageInterval\",\n",
        "    interval=100,\n",
        "    n_intervals=0,\n",
        "    max_intervals=5,\n",
        "    disabled=False),\n",
        "    html.Div(id=\"container\",\n",
        " children=[\n",
        "    html.Link(\n",
        "            rel=\"stylesheet\",\n",
        "            href=\"https://fonts.googleapis.com/css2?family=Lora:wght@400;700&display=swap\"\n",
        "        ),\n",
        "    html.H1(\"Various factors affect the average queue times for top attractions in theme parks\"),\n",
        "    html.H2(\"One key factor is location\"),\n",
        "    html.P(\"At both a country and continent level, there are differences in top attraction queue times at theme parks by location. Brazil tops the tables in terms of country queue times, with Japan and Hong Kong not far behind, and parks in South America and Asia generally have longer queue times on average. On the other end of the spectrum, Belgium, Austria and Denmark's top attraction queue times are the lowest, and parks in Europe have the shortest queue times on average.\"),\n",
        "    html.P(\"The data can be broken down by either country or continent; choose an option below:\"),\n",
        "    dcc.Dropdown(id=\"LocationGranularity\",\n",
        "                 options=[{\n",
        "                     \"label\": i,\n",
        "                     \"value\": i\n",
        "                 } for i in LocationOptions]),\n",
        "    dcc.Graph(id=\"figure1\"),\n",
        "    html.H2(\"Another key factor is operator\"),\n",
        "    html.P(\"Universal and Disney, the two park operators whose parks are most attended on average, top the tables in terms of operator queue times. On the other end of the spectrum, Plopsa and Looping Group have the lowest queue times for top attractions on average.\"),\n",
        "    dcc.Graph(id=\"bar-graph2\", figure=Figure2),\n",
        "    html.Div([\"All queue time data is sourced from the Parks index on \", html.A(\"queue-times.com\", href=\"https://queue-times.com/parks\", target=\"_blank\"), \". This data was correct as of 26th January 2025.\"])\n",
        "], style={\"opacity\" : 0, \"transition\" : \"opacity 2s ease-in-out\"})])\n",
        "\n",
        "#Declaring a callback to allow the user to choose whether they want the data shown by country or continent\n",
        "#Depending on the user's choice, a figure aggregating the data by country or continent will be shown\n",
        "@Dashboard.callback(\n",
        "    Output(\"figure1\", \"figure\"),\n",
        "    Input(\"LocationGranularity\", \"value\")\n",
        ")\n",
        "def UpdateGraph(Location):\n",
        "  #If the user chooses Continent, a bar chart aggregating the data by continent is shown\n",
        "  if Location == \"Continent\":\n",
        "    #Grouping the descriptive statistics by continent\n",
        "    QueuesGroupedByContinent = Data.groupby(by=\"Continent\")[\"Queue Time\"].describe()\n",
        "    #Drawing the figure using the mean queue time by continent\n",
        "    figure = px.bar(QueuesGroupedByContinent, x=QueuesGroupedByContinent.index, y=\"mean\", color_discrete_sequence=[\"#00008b\"])\n",
        "    #Making some layout adjustments, including changing the category order and tick angle, adding titles and changing the colour\n",
        "    figure.update_layout(xaxis={\"categoryorder\" : \"total descending\",\n",
        "                                \"tickangle\" : 30},\n",
        "                          yaxis={\"title\" : \"Average Queue Time (minutes)\"},\n",
        "                          title=\"Major Attraction Queue Times by Continent\",\n",
        "                          paper_bgcolor=\"#87cefa\",\n",
        "                          plot_bgcolor=\"#87cefa\",\n",
        "                          font={\"family\" : \"Lora\",\n",
        "                                \"color\" : \"#00008b\"})\n",
        "    #Updating the hover box to be more user-friendly\n",
        "    figure.update_traces(hovertemplate=\"%{x}: %{y} minutes<extra></extra>\")\n",
        "  #If the user chooses Country or does not play with the interactive dropdown menu, a bar chart aggregating the data by country is shown\n",
        "  else:\n",
        "    #Grouping the descriptive statistics by country\n",
        "    QueuesGroupedByCountry = Data.groupby(by=\"Country\")[\"Queue Time\"].describe()\n",
        "    QueuesGroupedByCountry = QueuesGroupedByCountry.reset_index().merge(Data[[\"Country\", \"Continent\"]].drop_duplicates(), on=\"Country\")\n",
        "    #Drawing the figure using the mean queue time by country\n",
        "    figure = px.bar(QueuesGroupedByCountry, x=\"Country\", y=\"mean\", color=\"Continent\", color_discrete_sequence=[\"#00008b\", \"#663399\", \"#ff4f00\", \"#ffdf00\"])\n",
        "    #Making some layout adjustments, including changing the category order and tick angle, adding titles and changing the colour\n",
        "    figure.update_layout(xaxis={\"categoryorder\" : \"total descending\",\n",
        "                                \"tickangle\" : 30},\n",
        "                          yaxis={\"title\" : \"Average Queue Time (minutes)\"},\n",
        "                          title=\"Major Attraction Queue Times by Country\",\n",
        "                          paper_bgcolor=\"#87cefa\",\n",
        "                          plot_bgcolor=\"#87cefa\",\n",
        "                          font={\"family\" : \"Lora\",\n",
        "                                \"color\" : \"#00008b\"})\n",
        "    #Updating the hover box to be more user-friendly\n",
        "    figure.update_traces(hovertemplate=\"%{x}: %{y} minutes<extra></extra>\")\n",
        "  #Returning the chosen figure\n",
        "  return figure\n",
        "\n",
        "#Declaring a callback to make the content fade in when the page is opened, using the interval item as an input\n",
        "@Dashboard.callback(\n",
        "    Output(\"container\", \"style\"),\n",
        "    Input(\"PageInterval\", \"n_intervals\")\n",
        ")\n",
        "def PageFadeIn(n_intervals):\n",
        "  #Returning the style necessary to make the material fade in\n",
        "  return {\"opacity\" : min(n_intervals * 0.2, 1), \"transition\" : \"opacity 2s ease-in-out\"}"
      ],
      "metadata": {
        "id": "l7DDlDbYhA3g"
      },
      "execution_count": null,
      "outputs": []
    },
    {
      "cell_type": "markdown",
      "source": [
        "**Running the Dashboard**"
      ],
      "metadata": {
        "id": "aiDVU-zsgYTx"
      }
    },
    {
      "cell_type": "markdown",
      "source": [
        "Execute this code block to run the dashboard."
      ],
      "metadata": {
        "id": "5xi8cBC403Jb"
      }
    },
    {
      "cell_type": "code",
      "source": [
        "#Running the dashboard\n",
        "if __name__ == '__main__':\n",
        "    Dashboard.run(debug=True)\n"
      ],
      "metadata": {
        "id": "0Mahmvathx_n",
        "outputId": "0133f5a1-265a-42ef-e41a-d88dd2f79225",
        "colab": {
          "base_uri": "https://localhost:8080/",
          "height": 671
        }
      },
      "execution_count": null,
      "outputs": [
        {
          "output_type": "display_data",
          "data": {
            "text/plain": [
              "<IPython.core.display.Javascript object>"
            ],
            "application/javascript": [
              "(async (port, path, width, height, cache, element) => {\n",
              "    if (!google.colab.kernel.accessAllowed && !cache) {\n",
              "      return;\n",
              "    }\n",
              "    element.appendChild(document.createTextNode(''));\n",
              "    const url = await google.colab.kernel.proxyPort(port, {cache});\n",
              "    const iframe = document.createElement('iframe');\n",
              "    iframe.src = new URL(path, url).toString();\n",
              "    iframe.height = height;\n",
              "    iframe.width = width;\n",
              "    iframe.style.border = 0;\n",
              "    iframe.allow = [\n",
              "        'accelerometer',\n",
              "        'autoplay',\n",
              "        'camera',\n",
              "        'clipboard-read',\n",
              "        'clipboard-write',\n",
              "        'gyroscope',\n",
              "        'magnetometer',\n",
              "        'microphone',\n",
              "        'serial',\n",
              "        'usb',\n",
              "        'xr-spatial-tracking',\n",
              "    ].join('; ');\n",
              "    element.appendChild(iframe);\n",
              "  })(8050, \"/\", \"100%\", 650, false, window.element)"
            ]
          },
          "metadata": {}
        }
      ]
    }
  ]
}